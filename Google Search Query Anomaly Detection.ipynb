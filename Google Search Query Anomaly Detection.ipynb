{
 "cells": [
  {
   "cell_type": "markdown",
   "id": "ff70ab79",
   "metadata": {},
   "source": [
    "## 1. Import the libraries:"
   ]
  },
  {
   "cell_type": "code",
   "execution_count": 51,
   "id": "42e69d8d",
   "metadata": {},
   "outputs": [],
   "source": [
    "import pandas as pd\n",
    "import numpy as np\n",
    "import matplotlib.pyplot as plt\n",
    "import seaborn as sns\n",
    "from sklearn.ensemble import IsolationForest\n",
    "\n",
    "import re\n",
    "from collections import Counter\n",
    "\n",
    "%matplotlib inline"
   ]
  },
  {
   "cell_type": "markdown",
   "id": "190c748a",
   "metadata": {},
   "source": [
    "## 2. Load the dataset:"
   ]
  },
  {
   "cell_type": "code",
   "execution_count": 64,
   "id": "16715982",
   "metadata": {},
   "outputs": [
    {
     "data": {
      "text/html": [
       "<div>\n",
       "<style scoped>\n",
       "    .dataframe tbody tr th:only-of-type {\n",
       "        vertical-align: middle;\n",
       "    }\n",
       "\n",
       "    .dataframe tbody tr th {\n",
       "        vertical-align: top;\n",
       "    }\n",
       "\n",
       "    .dataframe thead th {\n",
       "        text-align: right;\n",
       "    }\n",
       "</style>\n",
       "<table border=\"1\" class=\"dataframe\">\n",
       "  <thead>\n",
       "    <tr style=\"text-align: right;\">\n",
       "      <th></th>\n",
       "      <th>Top queries</th>\n",
       "      <th>Clicks</th>\n",
       "      <th>Impressions</th>\n",
       "      <th>CTR</th>\n",
       "      <th>Position</th>\n",
       "    </tr>\n",
       "  </thead>\n",
       "  <tbody>\n",
       "    <tr>\n",
       "      <th>0</th>\n",
       "      <td>number guessing game python</td>\n",
       "      <td>5223</td>\n",
       "      <td>14578</td>\n",
       "      <td>35.83%</td>\n",
       "      <td>1.61</td>\n",
       "    </tr>\n",
       "    <tr>\n",
       "      <th>1</th>\n",
       "      <td>thecleverprogrammer</td>\n",
       "      <td>2809</td>\n",
       "      <td>3456</td>\n",
       "      <td>81.28%</td>\n",
       "      <td>1.02</td>\n",
       "    </tr>\n",
       "  </tbody>\n",
       "</table>\n",
       "</div>"
      ],
      "text/plain": [
       "                   Top queries  Clicks  Impressions     CTR  Position\n",
       "0  number guessing game python    5223        14578  35.83%      1.61\n",
       "1          thecleverprogrammer    2809         3456  81.28%      1.02"
      ]
     },
     "execution_count": 64,
     "metadata": {},
     "output_type": "execute_result"
    }
   ],
   "source": [
    "data = pd.read_csv(\"Queries.csv\")\n",
    "data.head(2)"
   ]
  },
  {
   "cell_type": "markdown",
   "id": "bc10b520",
   "metadata": {},
   "source": [
    "## 3. Exploratory Data Analysis:"
   ]
  },
  {
   "cell_type": "markdown",
   "id": "a062a477",
   "metadata": {},
   "source": [
    "The datatypes of the features:"
   ]
  },
  {
   "cell_type": "code",
   "execution_count": 3,
   "id": "f9226fee",
   "metadata": {},
   "outputs": [
    {
     "name": "stdout",
     "output_type": "stream",
     "text": [
      "<class 'pandas.core.frame.DataFrame'>\n",
      "RangeIndex: 1000 entries, 0 to 999\n",
      "Data columns (total 5 columns):\n",
      " #   Column       Non-Null Count  Dtype  \n",
      "---  ------       --------------  -----  \n",
      " 0   Top queries  1000 non-null   object \n",
      " 1   Clicks       1000 non-null   int64  \n",
      " 2   Impressions  1000 non-null   int64  \n",
      " 3   CTR          1000 non-null   object \n",
      " 4   Position     1000 non-null   float64\n",
      "dtypes: float64(1), int64(2), object(2)\n",
      "memory usage: 39.2+ KB\n"
     ]
    }
   ],
   "source": [
    "data.info()"
   ]
  },
  {
   "cell_type": "markdown",
   "id": "638be4ea",
   "metadata": {},
   "source": [
    "Check for any Null-Values:"
   ]
  },
  {
   "cell_type": "code",
   "execution_count": 4,
   "id": "b216b60f",
   "metadata": {},
   "outputs": [
    {
     "data": {
      "text/plain": [
       "Top queries    0\n",
       "Clicks         0\n",
       "Impressions    0\n",
       "CTR            0\n",
       "Position       0\n",
       "dtype: int64"
      ]
     },
     "execution_count": 4,
     "metadata": {},
     "output_type": "execute_result"
    }
   ],
   "source": [
    "data.isna().sum()"
   ]
  },
  {
   "cell_type": "markdown",
   "id": "e9aaf165",
   "metadata": {},
   "source": [
    "There is no any null data."
   ]
  },
  {
   "cell_type": "markdown",
   "id": "9646ff7d",
   "metadata": {},
   "source": [
    "The **CTR** seems to have object data type, to perform any operations in the future, let's convert it to float type:"
   ]
  },
  {
   "cell_type": "code",
   "execution_count": 65,
   "id": "17520417",
   "metadata": {},
   "outputs": [
    {
     "name": "stdout",
     "output_type": "stream",
     "text": [
      "<class 'pandas.core.frame.DataFrame'>\n",
      "RangeIndex: 1000 entries, 0 to 999\n",
      "Data columns (total 5 columns):\n",
      " #   Column       Non-Null Count  Dtype  \n",
      "---  ------       --------------  -----  \n",
      " 0   Top queries  1000 non-null   object \n",
      " 1   Clicks       1000 non-null   int64  \n",
      " 2   Impressions  1000 non-null   int64  \n",
      " 3   CTR          1000 non-null   float64\n",
      " 4   Position     1000 non-null   float64\n",
      "dtypes: float64(2), int64(2), object(1)\n",
      "memory usage: 39.2+ KB\n"
     ]
    }
   ],
   "source": [
    "data['CTR'] = data['CTR'].str.rstrip(\"%\").astype('float')/100\n",
    "data.info()"
   ]
  },
  {
   "cell_type": "code",
   "execution_count": 6,
   "id": "5c73bfbe",
   "metadata": {},
   "outputs": [
    {
     "data": {
      "text/html": [
       "<div>\n",
       "<style scoped>\n",
       "    .dataframe tbody tr th:only-of-type {\n",
       "        vertical-align: middle;\n",
       "    }\n",
       "\n",
       "    .dataframe tbody tr th {\n",
       "        vertical-align: top;\n",
       "    }\n",
       "\n",
       "    .dataframe thead th {\n",
       "        text-align: right;\n",
       "    }\n",
       "</style>\n",
       "<table border=\"1\" class=\"dataframe\">\n",
       "  <thead>\n",
       "    <tr style=\"text-align: right;\">\n",
       "      <th></th>\n",
       "      <th>Top queries</th>\n",
       "      <th>Clicks</th>\n",
       "      <th>Impressions</th>\n",
       "      <th>CTR</th>\n",
       "      <th>Position</th>\n",
       "    </tr>\n",
       "  </thead>\n",
       "  <tbody>\n",
       "    <tr>\n",
       "      <th>0</th>\n",
       "      <td>number guessing game python</td>\n",
       "      <td>5223</td>\n",
       "      <td>14578</td>\n",
       "      <td>0.3583</td>\n",
       "      <td>1.61</td>\n",
       "    </tr>\n",
       "    <tr>\n",
       "      <th>1</th>\n",
       "      <td>thecleverprogrammer</td>\n",
       "      <td>2809</td>\n",
       "      <td>3456</td>\n",
       "      <td>0.8128</td>\n",
       "      <td>1.02</td>\n",
       "    </tr>\n",
       "    <tr>\n",
       "      <th>2</th>\n",
       "      <td>python projects with source code</td>\n",
       "      <td>2077</td>\n",
       "      <td>73380</td>\n",
       "      <td>0.0283</td>\n",
       "      <td>5.94</td>\n",
       "    </tr>\n",
       "    <tr>\n",
       "      <th>3</th>\n",
       "      <td>classification report in machine learning</td>\n",
       "      <td>2012</td>\n",
       "      <td>4959</td>\n",
       "      <td>0.4057</td>\n",
       "      <td>1.28</td>\n",
       "    </tr>\n",
       "    <tr>\n",
       "      <th>4</th>\n",
       "      <td>the clever programmer</td>\n",
       "      <td>1931</td>\n",
       "      <td>2528</td>\n",
       "      <td>0.7638</td>\n",
       "      <td>1.09</td>\n",
       "    </tr>\n",
       "  </tbody>\n",
       "</table>\n",
       "</div>"
      ],
      "text/plain": [
       "                                 Top queries  Clicks  Impressions     CTR  \\\n",
       "0                number guessing game python    5223        14578  0.3583   \n",
       "1                        thecleverprogrammer    2809         3456  0.8128   \n",
       "2           python projects with source code    2077        73380  0.0283   \n",
       "3  classification report in machine learning    2012         4959  0.4057   \n",
       "4                      the clever programmer    1931         2528  0.7638   \n",
       "\n",
       "   Position  \n",
       "0      1.61  \n",
       "1      1.02  \n",
       "2      5.94  \n",
       "3      1.28  \n",
       "4      1.09  "
      ]
     },
     "execution_count": 6,
     "metadata": {},
     "output_type": "execute_result"
    }
   ],
   "source": [
    "data.head(5)"
   ]
  },
  {
   "cell_type": "markdown",
   "id": "4a4e0286",
   "metadata": {},
   "source": [
    "## 4. Count the most frequent words from the query:"
   ]
  },
  {
   "cell_type": "code",
   "execution_count": 7,
   "id": "5f39e163",
   "metadata": {},
   "outputs": [],
   "source": [
    "# A function to find words and split them and discard punctuations:\n",
    "def split_into_tokens(query):\n",
    "    words = re.findall(r'\\b[a-z]+\\b', query.lower())\n",
    "    return words\n",
    "\n",
    "\n",
    "# Creating a counter to count the word frequency:\n",
    "word_frequency = Counter()\n",
    "for query in data['Top queries']:\n",
    "    word_frequency.update(split_into_tokens(query))"
   ]
  },
  {
   "cell_type": "markdown",
   "id": "11fd621e",
   "metadata": {},
   "source": [
    "#### The top 20 most common words:"
   ]
  },
  {
   "cell_type": "code",
   "execution_count": 8,
   "id": "62aea7fa",
   "metadata": {},
   "outputs": [
    {
     "data": {
      "text/html": [
       "<div>\n",
       "<style scoped>\n",
       "    .dataframe tbody tr th:only-of-type {\n",
       "        vertical-align: middle;\n",
       "    }\n",
       "\n",
       "    .dataframe tbody tr th {\n",
       "        vertical-align: top;\n",
       "    }\n",
       "\n",
       "    .dataframe thead th {\n",
       "        text-align: right;\n",
       "    }\n",
       "</style>\n",
       "<table border=\"1\" class=\"dataframe\">\n",
       "  <thead>\n",
       "    <tr style=\"text-align: right;\">\n",
       "      <th></th>\n",
       "      <th>Words</th>\n",
       "      <th>Counts</th>\n",
       "    </tr>\n",
       "  </thead>\n",
       "  <tbody>\n",
       "    <tr>\n",
       "      <th>0</th>\n",
       "      <td>python</td>\n",
       "      <td>562</td>\n",
       "    </tr>\n",
       "    <tr>\n",
       "      <th>1</th>\n",
       "      <td>in</td>\n",
       "      <td>232</td>\n",
       "    </tr>\n",
       "    <tr>\n",
       "      <th>2</th>\n",
       "      <td>code</td>\n",
       "      <td>138</td>\n",
       "    </tr>\n",
       "    <tr>\n",
       "      <th>3</th>\n",
       "      <td>learning</td>\n",
       "      <td>133</td>\n",
       "    </tr>\n",
       "    <tr>\n",
       "      <th>4</th>\n",
       "      <td>machine</td>\n",
       "      <td>123</td>\n",
       "    </tr>\n",
       "    <tr>\n",
       "      <th>5</th>\n",
       "      <td>using</td>\n",
       "      <td>105</td>\n",
       "    </tr>\n",
       "    <tr>\n",
       "      <th>6</th>\n",
       "      <td>game</td>\n",
       "      <td>103</td>\n",
       "    </tr>\n",
       "    <tr>\n",
       "      <th>7</th>\n",
       "      <td>number</td>\n",
       "      <td>95</td>\n",
       "    </tr>\n",
       "    <tr>\n",
       "      <th>8</th>\n",
       "      <td>to</td>\n",
       "      <td>82</td>\n",
       "    </tr>\n",
       "    <tr>\n",
       "      <th>9</th>\n",
       "      <td>prediction</td>\n",
       "      <td>70</td>\n",
       "    </tr>\n",
       "    <tr>\n",
       "      <th>10</th>\n",
       "      <td>project</td>\n",
       "      <td>68</td>\n",
       "    </tr>\n",
       "    <tr>\n",
       "      <th>11</th>\n",
       "      <td>analysis</td>\n",
       "      <td>66</td>\n",
       "    </tr>\n",
       "    <tr>\n",
       "      <th>12</th>\n",
       "      <td>with</td>\n",
       "      <td>53</td>\n",
       "    </tr>\n",
       "    <tr>\n",
       "      <th>13</th>\n",
       "      <td>the</td>\n",
       "      <td>50</td>\n",
       "    </tr>\n",
       "    <tr>\n",
       "      <th>14</th>\n",
       "      <td>how</td>\n",
       "      <td>50</td>\n",
       "    </tr>\n",
       "    <tr>\n",
       "      <th>15</th>\n",
       "      <td>c</td>\n",
       "      <td>49</td>\n",
       "    </tr>\n",
       "    <tr>\n",
       "      <th>16</th>\n",
       "      <td>detection</td>\n",
       "      <td>45</td>\n",
       "    </tr>\n",
       "    <tr>\n",
       "      <th>17</th>\n",
       "      <td>guessing</td>\n",
       "      <td>43</td>\n",
       "    </tr>\n",
       "    <tr>\n",
       "      <th>18</th>\n",
       "      <td>source</td>\n",
       "      <td>43</td>\n",
       "    </tr>\n",
       "    <tr>\n",
       "      <th>19</th>\n",
       "      <td>classification</td>\n",
       "      <td>43</td>\n",
       "    </tr>\n",
       "  </tbody>\n",
       "</table>\n",
       "</div>"
      ],
      "text/plain": [
       "             Words  Counts\n",
       "0           python     562\n",
       "1               in     232\n",
       "2             code     138\n",
       "3         learning     133\n",
       "4          machine     123\n",
       "5            using     105\n",
       "6             game     103\n",
       "7           number      95\n",
       "8               to      82\n",
       "9       prediction      70\n",
       "10         project      68\n",
       "11        analysis      66\n",
       "12            with      53\n",
       "13             the      50\n",
       "14             how      50\n",
       "15               c      49\n",
       "16       detection      45\n",
       "17        guessing      43\n",
       "18          source      43\n",
       "19  classification      43"
      ]
     },
     "execution_count": 8,
     "metadata": {},
     "output_type": "execute_result"
    }
   ],
   "source": [
    "top_20_common_df = pd.DataFrame(word_frequency.most_common(20), columns=[\"Words\", \"Counts\"])\n",
    "top_20_common_df.head(20)"
   ]
  },
  {
   "cell_type": "code",
   "execution_count": 9,
   "id": "28670b16",
   "metadata": {},
   "outputs": [
    {
     "data": {
      "image/png": "[encoded data removed]",
      "text/plain": [
       "<Figure size 1440x576 with 1 Axes>"
      ]
     },
     "metadata": {
      "needs_background": "light"
     },
     "output_type": "display_data"
    }
   ],
   "source": [
    "plt.figure(figsize=(20, 8))\n",
    "bars = plt.bar(top_20_common_df.Words, top_20_common_df.Counts)\n",
    "plt.bar_label(bars)\n",
    "plt.title(\"Top 20 most common words in the query\")\n",
    "plt.xlabel(\"Words\")\n",
    "plt.ylabel(\"Frequency\")\n",
    "plt.show()"
   ]
  },
  {
   "cell_type": "code",
   "execution_count": 18,
   "id": "160a7ef4",
   "metadata": {},
   "outputs": [
    {
     "data": {
      "text/html": [
       "<div>\n",
       "<style scoped>\n",
       "    .dataframe tbody tr th:only-of-type {\n",
       "        vertical-align: middle;\n",
       "    }\n",
       "\n",
       "    .dataframe tbody tr th {\n",
       "        vertical-align: top;\n",
       "    }\n",
       "\n",
       "    .dataframe thead th {\n",
       "        text-align: right;\n",
       "    }\n",
       "</style>\n",
       "<table border=\"1\" class=\"dataframe\">\n",
       "  <thead>\n",
       "    <tr style=\"text-align: right;\">\n",
       "      <th></th>\n",
       "      <th>Top queries</th>\n",
       "      <th>Clicks</th>\n",
       "      <th>Impressions</th>\n",
       "      <th>CTR</th>\n",
       "      <th>Position</th>\n",
       "    </tr>\n",
       "  </thead>\n",
       "  <tbody>\n",
       "    <tr>\n",
       "      <th>0</th>\n",
       "      <td>number guessing game python</td>\n",
       "      <td>5223</td>\n",
       "      <td>14578</td>\n",
       "      <td>0.3583</td>\n",
       "      <td>1.61</td>\n",
       "    </tr>\n",
       "    <tr>\n",
       "      <th>1</th>\n",
       "      <td>thecleverprogrammer</td>\n",
       "      <td>2809</td>\n",
       "      <td>3456</td>\n",
       "      <td>0.8128</td>\n",
       "      <td>1.02</td>\n",
       "    </tr>\n",
       "    <tr>\n",
       "      <th>2</th>\n",
       "      <td>python projects with source code</td>\n",
       "      <td>2077</td>\n",
       "      <td>73380</td>\n",
       "      <td>0.0283</td>\n",
       "      <td>5.94</td>\n",
       "    </tr>\n",
       "    <tr>\n",
       "      <th>3</th>\n",
       "      <td>classification report in machine learning</td>\n",
       "      <td>2012</td>\n",
       "      <td>4959</td>\n",
       "      <td>0.4057</td>\n",
       "      <td>1.28</td>\n",
       "    </tr>\n",
       "    <tr>\n",
       "      <th>4</th>\n",
       "      <td>the clever programmer</td>\n",
       "      <td>1931</td>\n",
       "      <td>2528</td>\n",
       "      <td>0.7638</td>\n",
       "      <td>1.09</td>\n",
       "    </tr>\n",
       "  </tbody>\n",
       "</table>\n",
       "</div>"
      ],
      "text/plain": [
       "                                 Top queries  Clicks  Impressions     CTR  \\\n",
       "0                number guessing game python    5223        14578  0.3583   \n",
       "1                        thecleverprogrammer    2809         3456  0.8128   \n",
       "2           python projects with source code    2077        73380  0.0283   \n",
       "3  classification report in machine learning    2012         4959  0.4057   \n",
       "4                      the clever programmer    1931         2528  0.7638   \n",
       "\n",
       "   Position  \n",
       "0      1.61  \n",
       "1      1.02  \n",
       "2      5.94  \n",
       "3      1.28  \n",
       "4      1.09  "
      ]
     },
     "execution_count": 18,
     "metadata": {},
     "output_type": "execute_result"
    }
   ],
   "source": [
    "data.head()"
   ]
  },
  {
   "cell_type": "markdown",
   "id": "04fa3b48",
   "metadata": {},
   "source": [
    "## 5. Queries based on Clicks, Impressions, and CTR:"
   ]
  },
  {
   "cell_type": "markdown",
   "id": "45e06a71",
   "metadata": {},
   "source": [
    "#### 5.1 Top 10 Queries  based on the number of Clicks:"
   ]
  },
  {
   "cell_type": "code",
   "execution_count": 22,
   "id": "08ac1bad",
   "metadata": {},
   "outputs": [],
   "source": [
    "top_10_queries_clicks = data.nlargest(n=10, columns='Clicks')[['Top queries', 'Clicks']]"
   ]
  },
  {
   "cell_type": "code",
   "execution_count": 23,
   "id": "9e391a5d",
   "metadata": {},
   "outputs": [
    {
     "data": {
      "text/html": [
       "<div>\n",
       "<style scoped>\n",
       "    .dataframe tbody tr th:only-of-type {\n",
       "        vertical-align: middle;\n",
       "    }\n",
       "\n",
       "    .dataframe tbody tr th {\n",
       "        vertical-align: top;\n",
       "    }\n",
       "\n",
       "    .dataframe thead th {\n",
       "        text-align: right;\n",
       "    }\n",
       "</style>\n",
       "<table border=\"1\" class=\"dataframe\">\n",
       "  <thead>\n",
       "    <tr style=\"text-align: right;\">\n",
       "      <th></th>\n",
       "      <th>Top queries</th>\n",
       "      <th>Clicks</th>\n",
       "    </tr>\n",
       "  </thead>\n",
       "  <tbody>\n",
       "    <tr>\n",
       "      <th>0</th>\n",
       "      <td>number guessing game python</td>\n",
       "      <td>5223</td>\n",
       "    </tr>\n",
       "    <tr>\n",
       "      <th>1</th>\n",
       "      <td>thecleverprogrammer</td>\n",
       "      <td>2809</td>\n",
       "    </tr>\n",
       "    <tr>\n",
       "      <th>2</th>\n",
       "      <td>python projects with source code</td>\n",
       "      <td>2077</td>\n",
       "    </tr>\n",
       "    <tr>\n",
       "      <th>3</th>\n",
       "      <td>classification report in machine learning</td>\n",
       "      <td>2012</td>\n",
       "    </tr>\n",
       "    <tr>\n",
       "      <th>4</th>\n",
       "      <td>the clever programmer</td>\n",
       "      <td>1931</td>\n",
       "    </tr>\n",
       "    <tr>\n",
       "      <th>5</th>\n",
       "      <td>standard scaler in machine learning</td>\n",
       "      <td>1559</td>\n",
       "    </tr>\n",
       "    <tr>\n",
       "      <th>6</th>\n",
       "      <td>aman kharwal</td>\n",
       "      <td>1490</td>\n",
       "    </tr>\n",
       "    <tr>\n",
       "      <th>7</th>\n",
       "      <td>python turtle graphics code</td>\n",
       "      <td>1455</td>\n",
       "    </tr>\n",
       "    <tr>\n",
       "      <th>8</th>\n",
       "      <td>python game projects with source code</td>\n",
       "      <td>1421</td>\n",
       "    </tr>\n",
       "    <tr>\n",
       "      <th>9</th>\n",
       "      <td>82 python projects with source code</td>\n",
       "      <td>1343</td>\n",
       "    </tr>\n",
       "  </tbody>\n",
       "</table>\n",
       "</div>"
      ],
      "text/plain": [
       "                                 Top queries  Clicks\n",
       "0                number guessing game python    5223\n",
       "1                        thecleverprogrammer    2809\n",
       "2           python projects with source code    2077\n",
       "3  classification report in machine learning    2012\n",
       "4                      the clever programmer    1931\n",
       "5        standard scaler in machine learning    1559\n",
       "6                               aman kharwal    1490\n",
       "7                python turtle graphics code    1455\n",
       "8      python game projects with source code    1421\n",
       "9        82 python projects with source code    1343"
      ]
     },
     "execution_count": 23,
     "metadata": {},
     "output_type": "execute_result"
    }
   ],
   "source": [
    "top_10_queries_clicks"
   ]
  },
  {
   "cell_type": "markdown",
   "id": "add1be9a",
   "metadata": {},
   "source": [
    "#### 5.2 Top 10 Queries based on the number of Impressions:"
   ]
  },
  {
   "cell_type": "code",
   "execution_count": 24,
   "id": "757aefed",
   "metadata": {},
   "outputs": [],
   "source": [
    "top_10_queries_impression = data.nlargest(n=10, columns='Impressions')[['Top queries', 'Impressions']]"
   ]
  },
  {
   "cell_type": "code",
   "execution_count": 13,
   "id": "3bce489e",
   "metadata": {},
   "outputs": [
    {
     "data": {
      "text/html": [
       "<div>\n",
       "<style scoped>\n",
       "    .dataframe tbody tr th:only-of-type {\n",
       "        vertical-align: middle;\n",
       "    }\n",
       "\n",
       "    .dataframe tbody tr th {\n",
       "        vertical-align: top;\n",
       "    }\n",
       "\n",
       "    .dataframe thead th {\n",
       "        text-align: right;\n",
       "    }\n",
       "</style>\n",
       "<table border=\"1\" class=\"dataframe\">\n",
       "  <thead>\n",
       "    <tr style=\"text-align: right;\">\n",
       "      <th></th>\n",
       "      <th>Top queries</th>\n",
       "      <th>Impressions</th>\n",
       "    </tr>\n",
       "  </thead>\n",
       "  <tbody>\n",
       "    <tr>\n",
       "      <th>2</th>\n",
       "      <td>python projects with source code</td>\n",
       "      <td>73380</td>\n",
       "    </tr>\n",
       "    <tr>\n",
       "      <th>82</th>\n",
       "      <td>r2 score</td>\n",
       "      <td>56322</td>\n",
       "    </tr>\n",
       "    <tr>\n",
       "      <th>34</th>\n",
       "      <td>machine learning roadmap</td>\n",
       "      <td>42715</td>\n",
       "    </tr>\n",
       "    <tr>\n",
       "      <th>21</th>\n",
       "      <td>classification report</td>\n",
       "      <td>39896</td>\n",
       "    </tr>\n",
       "    <tr>\n",
       "      <th>232</th>\n",
       "      <td>standardscaler</td>\n",
       "      <td>39267</td>\n",
       "    </tr>\n",
       "    <tr>\n",
       "      <th>91</th>\n",
       "      <td>facebook programming languages</td>\n",
       "      <td>36055</td>\n",
       "    </tr>\n",
       "    <tr>\n",
       "      <th>15</th>\n",
       "      <td>rock paper scissors python</td>\n",
       "      <td>35824</td>\n",
       "    </tr>\n",
       "    <tr>\n",
       "      <th>36</th>\n",
       "      <td>pandas datareader</td>\n",
       "      <td>26663</td>\n",
       "    </tr>\n",
       "    <tr>\n",
       "      <th>180</th>\n",
       "      <td>classification_report</td>\n",
       "      <td>24917</td>\n",
       "    </tr>\n",
       "    <tr>\n",
       "      <th>54</th>\n",
       "      <td>pandas_datareader</td>\n",
       "      <td>24689</td>\n",
       "    </tr>\n",
       "  </tbody>\n",
       "</table>\n",
       "</div>"
      ],
      "text/plain": [
       "                          Top queries  Impressions\n",
       "2    python projects with source code        73380\n",
       "82                           r2 score        56322\n",
       "34           machine learning roadmap        42715\n",
       "21              classification report        39896\n",
       "232                    standardscaler        39267\n",
       "91     facebook programming languages        36055\n",
       "15         rock paper scissors python        35824\n",
       "36                  pandas datareader        26663\n",
       "180             classification_report        24917\n",
       "54                  pandas_datareader        24689"
      ]
     },
     "execution_count": 13,
     "metadata": {},
     "output_type": "execute_result"
    }
   ],
   "source": [
    "top_10_queries_impression"
   ]
  },
  {
   "cell_type": "markdown",
   "id": "255951a0",
   "metadata": {},
   "source": [
    "#### Plotting the top 10 Queries based on clicks:"
   ]
  },
  {
   "cell_type": "code",
   "execution_count": 14,
   "id": "d155d449",
   "metadata": {},
   "outputs": [
    {
     "data": {
      "image/png": "[encoded data removed]",
      "text/plain": [
       "<Figure size 1584x576 with 1 Axes>"
      ]
     },
     "metadata": {
      "needs_background": "light"
     },
     "output_type": "display_data"
    }
   ],
   "source": [
    "plt.figure(figsize=(22, 8))\n",
    "bars = plt.bar(top_10_queries_clicks['Top queries'],  top_10_queries_clicks['Clicks'])\n",
    "plt.bar_label(bars)\n",
    "plt.xticks(rotation=-45, ha='left', fontsize=10)\n",
    "plt.title(\"Top 10 Queries based on the Clicks\")\n",
    "plt.xlabel(\"Top 10 Queries\")\n",
    "plt.ylabel(\"Clicks\")\n",
    "plt.show()"
   ]
  },
  {
   "cell_type": "code",
   "execution_count": 15,
   "id": "7afe9133",
   "metadata": {},
   "outputs": [
    {
     "data": {
      "image/png": "[encoded data removed]",
      "text/plain": [
       "<Figure size 1584x576 with 1 Axes>"
      ]
     },
     "metadata": {
      "needs_background": "light"
     },
     "output_type": "display_data"
    }
   ],
   "source": [
    "plt.figure(figsize=(22, 8))\n",
    "bars = plt.bar(top_10_queries_impression['Top queries'], top_10_queries_impression['Impressions'])\n",
    "plt.bar_label(bars)\n",
    "plt.xticks(top_10_queries_impression['Top queries'], rotation=-45, ha='left')\n",
    "plt.xlabel(\"Top 10 Queries\")\n",
    "plt.ylabel(\"Impressions\")\n",
    "plt.title(\"Top 10 Queries based on the Impressions\")\n",
    "plt.show()"
   ]
  },
  {
   "cell_type": "code",
   "execution_count": 17,
   "id": "eb432a9e",
   "metadata": {},
   "outputs": [
    {
     "data": {
      "text/html": [
       "<div>\n",
       "<style scoped>\n",
       "    .dataframe tbody tr th:only-of-type {\n",
       "        vertical-align: middle;\n",
       "    }\n",
       "\n",
       "    .dataframe tbody tr th {\n",
       "        vertical-align: top;\n",
       "    }\n",
       "\n",
       "    .dataframe thead th {\n",
       "        text-align: right;\n",
       "    }\n",
       "</style>\n",
       "<table border=\"1\" class=\"dataframe\">\n",
       "  <thead>\n",
       "    <tr style=\"text-align: right;\">\n",
       "      <th></th>\n",
       "      <th>Top queries</th>\n",
       "      <th>Clicks</th>\n",
       "      <th>Impressions</th>\n",
       "      <th>CTR</th>\n",
       "      <th>Position</th>\n",
       "    </tr>\n",
       "  </thead>\n",
       "  <tbody>\n",
       "    <tr>\n",
       "      <th>0</th>\n",
       "      <td>number guessing game python</td>\n",
       "      <td>5223</td>\n",
       "      <td>14578</td>\n",
       "      <td>0.3583</td>\n",
       "      <td>1.61</td>\n",
       "    </tr>\n",
       "    <tr>\n",
       "      <th>1</th>\n",
       "      <td>thecleverprogrammer</td>\n",
       "      <td>2809</td>\n",
       "      <td>3456</td>\n",
       "      <td>0.8128</td>\n",
       "      <td>1.02</td>\n",
       "    </tr>\n",
       "    <tr>\n",
       "      <th>2</th>\n",
       "      <td>python projects with source code</td>\n",
       "      <td>2077</td>\n",
       "      <td>73380</td>\n",
       "      <td>0.0283</td>\n",
       "      <td>5.94</td>\n",
       "    </tr>\n",
       "    <tr>\n",
       "      <th>3</th>\n",
       "      <td>classification report in machine learning</td>\n",
       "      <td>2012</td>\n",
       "      <td>4959</td>\n",
       "      <td>0.4057</td>\n",
       "      <td>1.28</td>\n",
       "    </tr>\n",
       "    <tr>\n",
       "      <th>4</th>\n",
       "      <td>the clever programmer</td>\n",
       "      <td>1931</td>\n",
       "      <td>2528</td>\n",
       "      <td>0.7638</td>\n",
       "      <td>1.09</td>\n",
       "    </tr>\n",
       "  </tbody>\n",
       "</table>\n",
       "</div>"
      ],
      "text/plain": [
       "                                 Top queries  Clicks  Impressions     CTR  \\\n",
       "0                number guessing game python    5223        14578  0.3583   \n",
       "1                        thecleverprogrammer    2809         3456  0.8128   \n",
       "2           python projects with source code    2077        73380  0.0283   \n",
       "3  classification report in machine learning    2012         4959  0.4057   \n",
       "4                      the clever programmer    1931         2528  0.7638   \n",
       "\n",
       "   Position  \n",
       "0      1.61  \n",
       "1      1.02  \n",
       "2      5.94  \n",
       "3      1.28  \n",
       "4      1.09  "
      ]
     },
     "execution_count": 17,
     "metadata": {},
     "output_type": "execute_result"
    }
   ],
   "source": [
    "data.head()"
   ]
  },
  {
   "cell_type": "markdown",
   "id": "dcbc37ea",
   "metadata": {},
   "source": [
    "#### 5.3 Queries based on the highest and lowest CTR (Click Through Rate):"
   ]
  },
  {
   "cell_type": "markdown",
   "id": "e4423f06",
   "metadata": {},
   "source": [
    "**Top 10 queries of highest CTR:**"
   ]
  },
  {
   "cell_type": "code",
   "execution_count": 39,
   "id": "7cb4f154",
   "metadata": {},
   "outputs": [
    {
     "data": {
      "text/html": [
       "<div>\n",
       "<style scoped>\n",
       "    .dataframe tbody tr th:only-of-type {\n",
       "        vertical-align: middle;\n",
       "    }\n",
       "\n",
       "    .dataframe tbody tr th {\n",
       "        vertical-align: top;\n",
       "    }\n",
       "\n",
       "    .dataframe thead th {\n",
       "        text-align: right;\n",
       "    }\n",
       "</style>\n",
       "<table border=\"1\" class=\"dataframe\">\n",
       "  <thead>\n",
       "    <tr style=\"text-align: right;\">\n",
       "      <th></th>\n",
       "      <th>Top queries</th>\n",
       "      <th>CTR</th>\n",
       "    </tr>\n",
       "  </thead>\n",
       "  <tbody>\n",
       "    <tr>\n",
       "      <th>928</th>\n",
       "      <td>the cleverprogrammer.com</td>\n",
       "      <td>0.8548</td>\n",
       "    </tr>\n",
       "    <tr>\n",
       "      <th>927</th>\n",
       "      <td>the clever programmer.com</td>\n",
       "      <td>0.8281</td>\n",
       "    </tr>\n",
       "    <tr>\n",
       "      <th>1</th>\n",
       "      <td>thecleverprogrammer</td>\n",
       "      <td>0.8128</td>\n",
       "    </tr>\n",
       "    <tr>\n",
       "      <th>732</th>\n",
       "      <td>the clever programmer python project</td>\n",
       "      <td>0.7857</td>\n",
       "    </tr>\n",
       "    <tr>\n",
       "      <th>307</th>\n",
       "      <td>the clever programmer machine learning projects</td>\n",
       "      <td>0.7735</td>\n",
       "    </tr>\n",
       "    <tr>\n",
       "      <th>4</th>\n",
       "      <td>the clever programmer</td>\n",
       "      <td>0.7638</td>\n",
       "    </tr>\n",
       "    <tr>\n",
       "      <th>964</th>\n",
       "      <td>python program to send otp to mobile</td>\n",
       "      <td>0.7083</td>\n",
       "    </tr>\n",
       "    <tr>\n",
       "      <th>95</th>\n",
       "      <td>the card game code in python</td>\n",
       "      <td>0.6699</td>\n",
       "    </tr>\n",
       "    <tr>\n",
       "      <th>771</th>\n",
       "      <td>write a python program that calculates number ...</td>\n",
       "      <td>0.6632</td>\n",
       "    </tr>\n",
       "    <tr>\n",
       "      <th>137</th>\n",
       "      <td>python program to calculate number of seconds ...</td>\n",
       "      <td>0.6585</td>\n",
       "    </tr>\n",
       "  </tbody>\n",
       "</table>\n",
       "</div>"
      ],
      "text/plain": [
       "                                           Top queries     CTR\n",
       "928                           the cleverprogrammer.com  0.8548\n",
       "927                          the clever programmer.com  0.8281\n",
       "1                                  thecleverprogrammer  0.8128\n",
       "732               the clever programmer python project  0.7857\n",
       "307    the clever programmer machine learning projects  0.7735\n",
       "4                                the clever programmer  0.7638\n",
       "964               python program to send otp to mobile  0.7083\n",
       "95                        the card game code in python  0.6699\n",
       "771  write a python program that calculates number ...  0.6632\n",
       "137  python program to calculate number of seconds ...  0.6585"
      ]
     },
     "execution_count": 39,
     "metadata": {},
     "output_type": "execute_result"
    }
   ],
   "source": [
    "top_ctr_queries = data.nlargest(n=10, columns=['CTR'])[['Top queries', 'CTR']]\n",
    "top_ctr_queries"
   ]
  },
  {
   "cell_type": "code",
   "execution_count": 34,
   "id": "ac051f9f",
   "metadata": {},
   "outputs": [
    {
     "data": {
      "image/png": "[encoded data removed]",
      "text/plain": [
       "<Figure size 1584x504 with 1 Axes>"
      ]
     },
     "metadata": {
      "needs_background": "light"
     },
     "output_type": "display_data"
    }
   ],
   "source": [
    "plt.figure(figsize=(22, 7))\n",
    "bars = plt.bar(top_ctr_queries['Top queries'], top_ctr_queries['CTR'])\n",
    "plt.bar_label(bars)\n",
    "plt.xticks(top_ctr_queries['Top queries'], rotation='-45', ha='left')\n",
    "plt.title(\"Top 10 Queries with the highest CTR\")\n",
    "plt.xlabel(\" Queries\")\n",
    "plt.ylabel(\"Click Through Rate\")\n",
    "plt.show()"
   ]
  },
  {
   "cell_type": "markdown",
   "id": "0737d2a2",
   "metadata": {},
   "source": [
    "**Bottom 10 queries of highest CTR:**"
   ]
  },
  {
   "cell_type": "code",
   "execution_count": 37,
   "id": "2f50e716",
   "metadata": {},
   "outputs": [],
   "source": [
    "bottom_ctr_queries = data.nsmallest(n=10, columns=['CTR'])[['Top queries', 'CTR']]"
   ]
  },
  {
   "cell_type": "code",
   "execution_count": 38,
   "id": "d4f63771",
   "metadata": {},
   "outputs": [
    {
     "data": {
      "text/html": [
       "<div>\n",
       "<style scoped>\n",
       "    .dataframe tbody tr th:only-of-type {\n",
       "        vertical-align: middle;\n",
       "    }\n",
       "\n",
       "    .dataframe tbody tr th {\n",
       "        vertical-align: top;\n",
       "    }\n",
       "\n",
       "    .dataframe thead th {\n",
       "        text-align: right;\n",
       "    }\n",
       "</style>\n",
       "<table border=\"1\" class=\"dataframe\">\n",
       "  <thead>\n",
       "    <tr style=\"text-align: right;\">\n",
       "      <th></th>\n",
       "      <th>Top queries</th>\n",
       "      <th>CTR</th>\n",
       "    </tr>\n",
       "  </thead>\n",
       "  <tbody>\n",
       "    <tr>\n",
       "      <th>929</th>\n",
       "      <td>python turtle</td>\n",
       "      <td>0.0029</td>\n",
       "    </tr>\n",
       "    <tr>\n",
       "      <th>232</th>\n",
       "      <td>standardscaler</td>\n",
       "      <td>0.0045</td>\n",
       "    </tr>\n",
       "    <tr>\n",
       "      <th>423</th>\n",
       "      <td>classification report sklearn</td>\n",
       "      <td>0.0047</td>\n",
       "    </tr>\n",
       "    <tr>\n",
       "      <th>544</th>\n",
       "      <td>standard scaler</td>\n",
       "      <td>0.0048</td>\n",
       "    </tr>\n",
       "    <tr>\n",
       "      <th>981</th>\n",
       "      <td>r2 score sklearn</td>\n",
       "      <td>0.0062</td>\n",
       "    </tr>\n",
       "    <tr>\n",
       "      <th>82</th>\n",
       "      <td>r2 score</td>\n",
       "      <td>0.0065</td>\n",
       "    </tr>\n",
       "    <tr>\n",
       "      <th>536</th>\n",
       "      <td>python source code</td>\n",
       "      <td>0.0067</td>\n",
       "    </tr>\n",
       "    <tr>\n",
       "      <th>664</th>\n",
       "      <td>online payment fraud detection</td>\n",
       "      <td>0.0070</td>\n",
       "    </tr>\n",
       "    <tr>\n",
       "      <th>684</th>\n",
       "      <td>turtle graphics</td>\n",
       "      <td>0.0070</td>\n",
       "    </tr>\n",
       "    <tr>\n",
       "      <th>858</th>\n",
       "      <td>water quality analysis</td>\n",
       "      <td>0.0076</td>\n",
       "    </tr>\n",
       "  </tbody>\n",
       "</table>\n",
       "</div>"
      ],
      "text/plain": [
       "                        Top queries     CTR\n",
       "929                   python turtle  0.0029\n",
       "232                  standardscaler  0.0045\n",
       "423   classification report sklearn  0.0047\n",
       "544                 standard scaler  0.0048\n",
       "981                r2 score sklearn  0.0062\n",
       "82                         r2 score  0.0065\n",
       "536              python source code  0.0067\n",
       "664  online payment fraud detection  0.0070\n",
       "684                 turtle graphics  0.0070\n",
       "858          water quality analysis  0.0076"
      ]
     },
     "execution_count": 38,
     "metadata": {},
     "output_type": "execute_result"
    }
   ],
   "source": [
    "bottom_ctr_queries"
   ]
  },
  {
   "cell_type": "code",
   "execution_count": 36,
   "id": "81a6d3d6",
   "metadata": {},
   "outputs": [
    {
     "data": {
      "image/png": "[encoded data removed]",
      "text/plain": [
       "<Figure size 1584x504 with 1 Axes>"
      ]
     },
     "metadata": {
      "needs_background": "light"
     },
     "output_type": "display_data"
    }
   ],
   "source": [
    "plt.figure(figsize=(22, 7))\n",
    "bars = plt.bar(bottom_ctr_queries['Top queries'], bottom_ctr_queries['CTR'])\n",
    "plt.bar_label(bars)\n",
    "plt.xticks(bottom_ctr_queries['Top queries'], rotation='-45', ha='left')\n",
    "plt.title(\"Bottom 10 Queries with the lowest CTR\")\n",
    "plt.xlabel(\"Queries\")\n",
    "plt.ylabel(\"Click Through Rate\")\n",
    "plt.show()"
   ]
  },
  {
   "cell_type": "markdown",
   "id": "34fba201",
   "metadata": {},
   "source": [
    "## 6. Understanding the correlation between the numerical features:"
   ]
  },
  {
   "cell_type": "code",
   "execution_count": 43,
   "id": "5efb2ef0",
   "metadata": {},
   "outputs": [
    {
     "data": {
      "text/html": [
       "<div>\n",
       "<style scoped>\n",
       "    .dataframe tbody tr th:only-of-type {\n",
       "        vertical-align: middle;\n",
       "    }\n",
       "\n",
       "    .dataframe tbody tr th {\n",
       "        vertical-align: top;\n",
       "    }\n",
       "\n",
       "    .dataframe thead th {\n",
       "        text-align: right;\n",
       "    }\n",
       "</style>\n",
       "<table border=\"1\" class=\"dataframe\">\n",
       "  <thead>\n",
       "    <tr style=\"text-align: right;\">\n",
       "      <th></th>\n",
       "      <th>Clicks</th>\n",
       "      <th>Impressions</th>\n",
       "      <th>CTR</th>\n",
       "      <th>Position</th>\n",
       "    </tr>\n",
       "  </thead>\n",
       "  <tbody>\n",
       "    <tr>\n",
       "      <th>Clicks</th>\n",
       "      <td>1.000000</td>\n",
       "      <td>0.377256</td>\n",
       "      <td>0.106758</td>\n",
       "      <td>-0.111582</td>\n",
       "    </tr>\n",
       "    <tr>\n",
       "      <th>Impressions</th>\n",
       "      <td>0.377256</td>\n",
       "      <td>1.000000</td>\n",
       "      <td>-0.331126</td>\n",
       "      <td>0.357921</td>\n",
       "    </tr>\n",
       "    <tr>\n",
       "      <th>CTR</th>\n",
       "      <td>0.106758</td>\n",
       "      <td>-0.331126</td>\n",
       "      <td>1.000000</td>\n",
       "      <td>-0.728320</td>\n",
       "    </tr>\n",
       "    <tr>\n",
       "      <th>Position</th>\n",
       "      <td>-0.111582</td>\n",
       "      <td>0.357921</td>\n",
       "      <td>-0.728320</td>\n",
       "      <td>1.000000</td>\n",
       "    </tr>\n",
       "  </tbody>\n",
       "</table>\n",
       "</div>"
      ],
      "text/plain": [
       "               Clicks  Impressions       CTR  Position\n",
       "Clicks       1.000000     0.377256  0.106758 -0.111582\n",
       "Impressions  0.377256     1.000000 -0.331126  0.357921\n",
       "CTR          0.106758    -0.331126  1.000000 -0.728320\n",
       "Position    -0.111582     0.357921 -0.728320  1.000000"
      ]
     },
     "execution_count": 43,
     "metadata": {},
     "output_type": "execute_result"
    }
   ],
   "source": [
    "queries_corr = data.corr()\n",
    "queries_corr"
   ]
  },
  {
   "cell_type": "code",
   "execution_count": 48,
   "id": "0cee4dd1",
   "metadata": {},
   "outputs": [
    {
     "data": {
      "image/png": "[encoded data removed]",
      "text/plain": [
       "<Figure size 432x288 with 2 Axes>"
      ]
     },
     "metadata": {
      "needs_background": "light"
     },
     "output_type": "display_data"
    }
   ],
   "source": [
    "sns.heatmap(queries_corr, annot=True, fmt=\".3f\", cmap='coolwarm')\n",
    "plt.show()"
   ]
  },
  {
   "cell_type": "markdown",
   "id": "bfce532c",
   "metadata": {},
   "source": [
    "**1. Clicks and Impressions (0.377):** There is a moderate positive correlation between them. This means that as the number of impression increases, the number of clicks also tends to increase but not that strongly.\n",
    "\n",
    "**2. Clicks and CTR (0.107):** They have a very weak positive correlation. This means an increase in clicks is slightly associated with the higher click through rate but the relationship is not so strong.\n",
    "\n",
    "**3. Clicks and Positions (-0.112):** There is a sligh weak correlation between them, this means if the position of the link is at better position (lower i.e. 1 represents the first, 2 represents the second, and so on), there is a slight chance it might get clicked.\n",
    "\n",
    "**4. Impressions and CTR (-0.331):** They have a moderate negative correlation. This means that if the link appears too often may be due to the advertisement the click-through-rate tends to decrease. This could be because the sites were more often in the search results but in less prominent positions or when the context of the search query doesn't match with the links that were shown.\n",
    "\n",
    "**5. Impressions and Position (0.358):** There is a moderate positive correlation between them. This means as the impression of the site increases it tends to increase their average position (where Lower number = Higher ranks) slightly.\n",
    "\n",
    "**6. CTR and Position (-0.728):** There is a strong negative correlation and it also makes sense because a better position (lower number where 1 represents the top rank, 2 the second and so on) will get higher click-through-rate. Which means higher positioned sites will get more clicks."
   ]
  },
  {
   "cell_type": "markdown",
   "id": "8ef3272d",
   "metadata": {},
   "source": [
    "## 7. Detecting Anomalies in Search Queries:"
   ]
  },
  {
   "cell_type": "markdown",
   "id": "1a88001a",
   "metadata": {},
   "source": [
    "For this task, we will be using **Isolation Forest** which is primarily used for anomaly detection. "
   ]
  },
  {
   "cell_type": "code",
   "execution_count": 52,
   "id": "c041afa3",
   "metadata": {},
   "outputs": [
    {
     "data": {
      "text/html": [
       "<div>\n",
       "<style scoped>\n",
       "    .dataframe tbody tr th:only-of-type {\n",
       "        vertical-align: middle;\n",
       "    }\n",
       "\n",
       "    .dataframe tbody tr th {\n",
       "        vertical-align: top;\n",
       "    }\n",
       "\n",
       "    .dataframe thead th {\n",
       "        text-align: right;\n",
       "    }\n",
       "</style>\n",
       "<table border=\"1\" class=\"dataframe\">\n",
       "  <thead>\n",
       "    <tr style=\"text-align: right;\">\n",
       "      <th></th>\n",
       "      <th>Top queries</th>\n",
       "      <th>Clicks</th>\n",
       "      <th>Impressions</th>\n",
       "      <th>CTR</th>\n",
       "      <th>Position</th>\n",
       "    </tr>\n",
       "  </thead>\n",
       "  <tbody>\n",
       "    <tr>\n",
       "      <th>0</th>\n",
       "      <td>number guessing game python</td>\n",
       "      <td>5223</td>\n",
       "      <td>14578</td>\n",
       "      <td>0.3583</td>\n",
       "      <td>1.61</td>\n",
       "    </tr>\n",
       "    <tr>\n",
       "      <th>1</th>\n",
       "      <td>thecleverprogrammer</td>\n",
       "      <td>2809</td>\n",
       "      <td>3456</td>\n",
       "      <td>0.8128</td>\n",
       "      <td>1.02</td>\n",
       "    </tr>\n",
       "  </tbody>\n",
       "</table>\n",
       "</div>"
      ],
      "text/plain": [
       "                   Top queries  Clicks  Impressions     CTR  Position\n",
       "0  number guessing game python    5223        14578  0.3583      1.61\n",
       "1          thecleverprogrammer    2809         3456  0.8128      1.02"
      ]
     },
     "execution_count": 52,
     "metadata": {},
     "output_type": "execute_result"
    }
   ],
   "source": [
    "data.head(2)"
   ]
  },
  {
   "cell_type": "code",
   "execution_count": 66,
   "id": "19719206",
   "metadata": {},
   "outputs": [
    {
     "data": {
      "text/html": [
       "<style>#sk-container-id-3 {color: black;background-color: white;}#sk-container-id-3 pre{padding: 0;}#sk-container-id-3 div.sk-toggleable {background-color: white;}#sk-container-id-3 label.sk-toggleable__label {cursor: pointer;display: block;width: 100%;margin-bottom: 0;padding: 0.3em;box-sizing: border-box;text-align: center;}#sk-container-id-3 label.sk-toggleable__label-arrow:before {content: \"▸\";float: left;margin-right: 0.25em;color: #696969;}#sk-container-id-3 label.sk-toggleable__label-arrow:hover:before {color: black;}#sk-container-id-3 div.sk-estimator:hover label.sk-toggleable__label-arrow:before {color: black;}#sk-container-id-3 div.sk-toggleable__content {max-height: 0;max-width: 0;overflow: hidden;text-align: left;background-color: #f0f8ff;}#sk-container-id-3 div.sk-toggleable__content pre {margin: 0.2em;color: black;border-radius: 0.25em;background-color: #f0f8ff;}#sk-container-id-3 input.sk-toggleable__control:checked~div.sk-toggleable__content {max-height: 200px;max-width: 100%;overflow: auto;}#sk-container-id-3 input.sk-toggleable__control:checked~label.sk-toggleable__label-arrow:before {content: \"▾\";}#sk-container-id-3 div.sk-estimator input.sk-toggleable__control:checked~label.sk-toggleable__label {background-color: #d4ebff;}#sk-container-id-3 div.sk-label input.sk-toggleable__control:checked~label.sk-toggleable__label {background-color: #d4ebff;}#sk-container-id-3 input.sk-hidden--visually {border: 0;clip: rect(1px 1px 1px 1px);clip: rect(1px, 1px, 1px, 1px);height: 1px;margin: -1px;overflow: hidden;padding: 0;position: absolute;width: 1px;}#sk-container-id-3 div.sk-estimator {font-family: monospace;background-color: #f0f8ff;border: 1px dotted black;border-radius: 0.25em;box-sizing: border-box;margin-bottom: 0.5em;}#sk-container-id-3 div.sk-estimator:hover {background-color: #d4ebff;}#sk-container-id-3 div.sk-parallel-item::after {content: \"\";width: 100%;border-bottom: 1px solid gray;flex-grow: 1;}#sk-container-id-3 div.sk-label:hover label.sk-toggleable__label {background-color: #d4ebff;}#sk-container-id-3 div.sk-serial::before {content: \"\";position: absolute;border-left: 1px solid gray;box-sizing: border-box;top: 0;bottom: 0;left: 50%;z-index: 0;}#sk-container-id-3 div.sk-serial {display: flex;flex-direction: column;align-items: center;background-color: white;padding-right: 0.2em;padding-left: 0.2em;position: relative;}#sk-container-id-3 div.sk-item {position: relative;z-index: 1;}#sk-container-id-3 div.sk-parallel {display: flex;align-items: stretch;justify-content: center;background-color: white;position: relative;}#sk-container-id-3 div.sk-item::before, #sk-container-id-3 div.sk-parallel-item::before {content: \"\";position: absolute;border-left: 1px solid gray;box-sizing: border-box;top: 0;bottom: 0;left: 50%;z-index: -1;}#sk-container-id-3 div.sk-parallel-item {display: flex;flex-direction: column;z-index: 1;position: relative;background-color: white;}#sk-container-id-3 div.sk-parallel-item:first-child::after {align-self: flex-end;width: 50%;}#sk-container-id-3 div.sk-parallel-item:last-child::after {align-self: flex-start;width: 50%;}#sk-container-id-3 div.sk-parallel-item:only-child::after {width: 0;}#sk-container-id-3 div.sk-dashed-wrapped {border: 1px dashed gray;margin: 0 0.4em 0.5em 0.4em;box-sizing: border-box;padding-bottom: 0.4em;background-color: white;}#sk-container-id-3 div.sk-label label {font-family: monospace;font-weight: bold;display: inline-block;line-height: 1.2em;}#sk-container-id-3 div.sk-label-container {text-align: center;}#sk-container-id-3 div.sk-container {/* jupyter's `normalize.less` sets `[hidden] { display: none; }` but bootstrap.min.css set `[hidden] { display: none !important; }` so we also need the `!important` here to be able to override the default hidden behavior on the sphinx rendered scikit-learn.org. See: https://github.com/scikit-learn/scikit-learn/issues/21755 */display: inline-block !important;position: relative;}#sk-container-id-3 div.sk-text-repr-fallback {display: none;}</style><div id=\"sk-container-id-3\" class=\"sk-top-container\"><div class=\"sk-text-repr-fallback\"><pre>IsolationForest(contamination=0.01)</pre><b>In a Jupyter environment, please rerun this cell to show the HTML representation or trust the notebook. <br />On GitHub, the HTML representation is unable to render, please try loading this page with nbviewer.org.</b></div><div class=\"sk-container\" hidden><div class=\"sk-item\"><div class=\"sk-estimator sk-toggleable\"><input class=\"sk-toggleable__control sk-hidden--visually\" id=\"sk-estimator-id-3\" type=\"checkbox\" checked><label for=\"sk-estimator-id-3\" class=\"sk-toggleable__label sk-toggleable__label-arrow\">IsolationForest</label><div class=\"sk-toggleable__content\"><pre>IsolationForest(contamination=0.01)</pre></div></div></div></div></div>"
      ],
      "text/plain": [
       "IsolationForest(contamination=0.01)"
      ]
     },
     "execution_count": 66,
     "metadata": {},
     "output_type": "execute_result"
    }
   ],
   "source": [
    "features = data.iloc[:, 1:].values\n",
    "isolation_forest = IsolationForest(n_estimators=100, contamination=0.01) # Contamination is expected proportion of outliers\n",
    "isolation_forest.fit(features)"
   ]
  },
  {
   "cell_type": "code",
   "execution_count": 71,
   "id": "eeff523f",
   "metadata": {},
   "outputs": [
    {
     "data": {
      "text/plain": [
       " 1    990\n",
       "-1     10\n",
       "Name: is_anomaly, dtype: int64"
      ]
     },
     "execution_count": 71,
     "metadata": {},
     "output_type": "execute_result"
    }
   ],
   "source": [
    "data['is_anomaly'] = isolation_forest.predict(features)\n",
    "data['is_anomaly'].value_counts()"
   ]
  },
  {
   "cell_type": "code",
   "execution_count": 72,
   "id": "34c8eb4f",
   "metadata": {},
   "outputs": [],
   "source": [
    "data['is_anomaly'] = data['is_anomaly'].replace({1:False, -1:True})"
   ]
  },
  {
   "cell_type": "markdown",
   "id": "e9da6995",
   "metadata": {},
   "source": [
    "-1 represents the outliers, where in total we have 10 outliers."
   ]
  },
  {
   "cell_type": "code",
   "execution_count": 73,
   "id": "baa72c0b",
   "metadata": {},
   "outputs": [
    {
     "data": {
      "text/plain": [
       "False    990\n",
       "True      10\n",
       "Name: is_anomaly, dtype: int64"
      ]
     },
     "execution_count": 73,
     "metadata": {},
     "output_type": "execute_result"
    }
   ],
   "source": [
    "data['is_anomaly'].value_counts()"
   ]
  },
  {
   "cell_type": "code",
   "execution_count": 74,
   "id": "b38d4248",
   "metadata": {},
   "outputs": [
    {
     "data": {
      "text/html": [
       "<div>\n",
       "<style scoped>\n",
       "    .dataframe tbody tr th:only-of-type {\n",
       "        vertical-align: middle;\n",
       "    }\n",
       "\n",
       "    .dataframe tbody tr th {\n",
       "        vertical-align: top;\n",
       "    }\n",
       "\n",
       "    .dataframe thead th {\n",
       "        text-align: right;\n",
       "    }\n",
       "</style>\n",
       "<table border=\"1\" class=\"dataframe\">\n",
       "  <thead>\n",
       "    <tr style=\"text-align: right;\">\n",
       "      <th></th>\n",
       "      <th>Top queries</th>\n",
       "      <th>Clicks</th>\n",
       "      <th>Impressions</th>\n",
       "      <th>CTR</th>\n",
       "      <th>Position</th>\n",
       "      <th>is_anomaly</th>\n",
       "    </tr>\n",
       "  </thead>\n",
       "  <tbody>\n",
       "    <tr>\n",
       "      <th>0</th>\n",
       "      <td>number guessing game python</td>\n",
       "      <td>5223</td>\n",
       "      <td>14578</td>\n",
       "      <td>0.3583</td>\n",
       "      <td>1.61</td>\n",
       "      <td>True</td>\n",
       "    </tr>\n",
       "    <tr>\n",
       "      <th>1</th>\n",
       "      <td>thecleverprogrammer</td>\n",
       "      <td>2809</td>\n",
       "      <td>3456</td>\n",
       "      <td>0.8128</td>\n",
       "      <td>1.02</td>\n",
       "      <td>True</td>\n",
       "    </tr>\n",
       "    <tr>\n",
       "      <th>2</th>\n",
       "      <td>python projects with source code</td>\n",
       "      <td>2077</td>\n",
       "      <td>73380</td>\n",
       "      <td>0.0283</td>\n",
       "      <td>5.94</td>\n",
       "      <td>True</td>\n",
       "    </tr>\n",
       "    <tr>\n",
       "      <th>3</th>\n",
       "      <td>classification report in machine learning</td>\n",
       "      <td>2012</td>\n",
       "      <td>4959</td>\n",
       "      <td>0.4057</td>\n",
       "      <td>1.28</td>\n",
       "      <td>True</td>\n",
       "    </tr>\n",
       "    <tr>\n",
       "      <th>4</th>\n",
       "      <td>the clever programmer</td>\n",
       "      <td>1931</td>\n",
       "      <td>2528</td>\n",
       "      <td>0.7638</td>\n",
       "      <td>1.09</td>\n",
       "      <td>True</td>\n",
       "    </tr>\n",
       "    <tr>\n",
       "      <th>15</th>\n",
       "      <td>rock paper scissors python</td>\n",
       "      <td>1111</td>\n",
       "      <td>35824</td>\n",
       "      <td>0.0310</td>\n",
       "      <td>7.19</td>\n",
       "      <td>True</td>\n",
       "    </tr>\n",
       "    <tr>\n",
       "      <th>21</th>\n",
       "      <td>classification report</td>\n",
       "      <td>933</td>\n",
       "      <td>39896</td>\n",
       "      <td>0.0234</td>\n",
       "      <td>7.53</td>\n",
       "      <td>True</td>\n",
       "    </tr>\n",
       "    <tr>\n",
       "      <th>34</th>\n",
       "      <td>machine learning roadmap</td>\n",
       "      <td>708</td>\n",
       "      <td>42715</td>\n",
       "      <td>0.0166</td>\n",
       "      <td>8.97</td>\n",
       "      <td>True</td>\n",
       "    </tr>\n",
       "    <tr>\n",
       "      <th>82</th>\n",
       "      <td>r2 score</td>\n",
       "      <td>367</td>\n",
       "      <td>56322</td>\n",
       "      <td>0.0065</td>\n",
       "      <td>9.33</td>\n",
       "      <td>True</td>\n",
       "    </tr>\n",
       "    <tr>\n",
       "      <th>167</th>\n",
       "      <td>text to handwriting</td>\n",
       "      <td>222</td>\n",
       "      <td>11283</td>\n",
       "      <td>0.0197</td>\n",
       "      <td>28.52</td>\n",
       "      <td>True</td>\n",
       "    </tr>\n",
       "  </tbody>\n",
       "</table>\n",
       "</div>"
      ],
      "text/plain": [
       "                                   Top queries  Clicks  Impressions     CTR  \\\n",
       "0                  number guessing game python    5223        14578  0.3583   \n",
       "1                          thecleverprogrammer    2809         3456  0.8128   \n",
       "2             python projects with source code    2077        73380  0.0283   \n",
       "3    classification report in machine learning    2012         4959  0.4057   \n",
       "4                        the clever programmer    1931         2528  0.7638   \n",
       "15                  rock paper scissors python    1111        35824  0.0310   \n",
       "21                       classification report     933        39896  0.0234   \n",
       "34                    machine learning roadmap     708        42715  0.0166   \n",
       "82                                    r2 score     367        56322  0.0065   \n",
       "167                        text to handwriting     222        11283  0.0197   \n",
       "\n",
       "     Position  is_anomaly  \n",
       "0        1.61        True  \n",
       "1        1.02        True  \n",
       "2        5.94        True  \n",
       "3        1.28        True  \n",
       "4        1.09        True  \n",
       "15       7.19        True  \n",
       "21       7.53        True  \n",
       "34       8.97        True  \n",
       "82       9.33        True  \n",
       "167     28.52        True  "
      ]
     },
     "execution_count": 74,
     "metadata": {},
     "output_type": "execute_result"
    }
   ],
   "source": [
    "anamolies = data[data['is_anomaly'] == True]\n",
    "anamolies"
   ]
  },
  {
   "cell_type": "markdown",
   "id": "67387634",
   "metadata": {},
   "source": [
    "The anomalies in our search query data are more than just outliers; they highlight potential opportunities for growth, optimization, and strategic attention. These anomalies reveal emerging trends or areas of increasing interest. Being responsive to these trends is crucial for sustaining and enhancing the website's relevance and user engagement."
   ]
  },
  {
   "cell_type": "markdown",
   "id": "6e48e346",
   "metadata": {},
   "source": [
    "## 8. Summary:"
   ]
  },
  {
   "cell_type": "markdown",
   "id": "fdc633af",
   "metadata": {},
   "source": [
    "Search Queries Anomaly Detection involves identifying queries that stand out as outliers based on their performance metrics. This process is valuable for businesses as it helps to uncover potential issues or opportunities, such as unusually high or low CTRs."
   ]
  },
  {
   "cell_type": "code",
   "execution_count": null,
   "id": "5dada995",
   "metadata": {},
   "outputs": [],
   "source": []
  }
 ],
 "metadata": {
  "kernelspec": {
   "display_name": "Python 3 (ipykernel)",
   "language": "python",
   "name": "python3"
  },
  "language_info": {
   "codemirror_mode": {
    "name": "ipython",
    "version": 3
   },
   "file_extension": ".py",
   "mimetype": "text/x-python",
   "name": "python",
   "nbconvert_exporter": "python",
   "pygments_lexer": "ipython3",
   "version": "3.10.4"
  }
 },
 "nbformat": 4,
 "nbformat_minor": 5
}
